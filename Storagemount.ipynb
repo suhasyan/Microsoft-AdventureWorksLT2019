{
 "cells": [
  {
   "cell_type": "code",
   "execution_count": 0,
   "metadata": {
    "application/vnd.databricks.v1+cell": {
     "cellMetadata": {
      "byteLimit": 2048000,
      "rowLimit": 10000
     },
     "inputWidgets": {},
     "nuid": "50f30d7a-82c9-4092-b52c-8e852a0b3889",
     "showTitle": false,
     "title": ""
    }
   },
   "outputs": [
    {
     "output_type": "stream",
     "name": "stdout",
     "output_type": "stream",
     "text": [
      "Out[2]: True"
     ]
    }
   ],
   "source": [
    "configs = {\n",
    "  \"fs.azure.account.auth.type\": \"CustomAccessToken\",\n",
    "  \"fs.azure.account.custom.token.provider.class\": spark.conf.get(\"spark.databricks.passthrough.adls.gen2.tokenProviderClassName\")\n",
    "}\n",
    "\n",
    "# Optionally, you can add <directory-name> to the source URI of your mount point.\n",
    "dbutils.fs.mount(\n",
    "  source = \"abfss://bronze@azurestoragelakegentwo.dfs.core.windows.net/\",\n",
    "  mount_point = \"/mnt/bronze1\",\n",
    "  extra_configs = configs)"
   ]
  },
  {
   "cell_type": "code",
   "execution_count": 0,
   "metadata": {
    "application/vnd.databricks.v1+cell": {
     "cellMetadata": {
      "byteLimit": 2048000,
      "rowLimit": 10000
     },
     "inputWidgets": {},
     "nuid": "275ee029-9f22-4fc4-b483-0046d2dfcb17",
     "showTitle": false,
     "title": ""
    }
   },
   "outputs": [
    {
     "output_type": "stream",
     "name": "stdout",
     "output_type": "stream",
     "text": [
      "Out[4]: [FileInfo(path='dbfs:/mnt/bronze1/SalesLT/Address/', name='Address/', size=0, modificationTime=1692442200000),\n FileInfo(path='dbfs:/mnt/bronze1/SalesLT/Customer/', name='Customer/', size=0, modificationTime=1692442218000),\n FileInfo(path='dbfs:/mnt/bronze1/SalesLT/CustomerAddress/', name='CustomerAddress/', size=0, modificationTime=1692442236000),\n FileInfo(path='dbfs:/mnt/bronze1/SalesLT/Product/', name='Product/', size=0, modificationTime=1692442190000),\n FileInfo(path='dbfs:/mnt/bronze1/SalesLT/ProductCategory/', name='ProductCategory/', size=0, modificationTime=1692442258000),\n FileInfo(path='dbfs:/mnt/bronze1/SalesLT/ProductDescription/', name='ProductDescription/', size=0, modificationTime=1692442190000),\n FileInfo(path='dbfs:/mnt/bronze1/SalesLT/ProductModel/', name='ProductModel/', size=0, modificationTime=1692442212000),\n FileInfo(path='dbfs:/mnt/bronze1/SalesLT/ProductModelProductDescription/', name='ProductModelProductDescription/', size=0, modificationTime=1692442215000),\n FileInfo(path='dbfs:/mnt/bronze1/SalesLT/SalesOrderDetail/', name='SalesOrderDetail/', size=0, modificationTime=1692442233000),\n FileInfo(path='dbfs:/mnt/bronze1/SalesLT/SalesOrderHeader/', name='SalesOrderHeader/', size=0, modificationTime=1692442249000)]"
     ]
    }
   ],
   "source": [
    "dbutils.fs.ls('/mnt/bronze1/SalesLT')"
   ]
  },
  {
   "cell_type": "code",
   "execution_count": 0,
   "metadata": {
    "application/vnd.databricks.v1+cell": {
     "cellMetadata": {
      "byteLimit": 2048000,
      "rowLimit": 10000
     },
     "inputWidgets": {},
     "nuid": "9541aab9-5f50-4ef8-bcbc-f7f13bfac611",
     "showTitle": false,
     "title": ""
    }
   },
   "outputs": [
    {
     "output_type": "stream",
     "name": "stdout",
     "output_type": "stream",
     "text": [
      "Out[5]: True"
     ]
    }
   ],
   "source": [
    "configs = {\n",
    "  \"fs.azure.account.auth.type\": \"CustomAccessToken\",\n",
    "  \"fs.azure.account.custom.token.provider.class\": spark.conf.get(\"spark.databricks.passthrough.adls.gen2.tokenProviderClassName\")\n",
    "}\n",
    "\n",
    "# Optionally, you can add <directory-name> to the source URI of your mount point.\n",
    "dbutils.fs.mount(\n",
    "  source = \"abfss://silver@azurestoragelakegentwo.dfs.core.windows.net/\",\n",
    "  mount_point = \"/mnt/silver1\",\n",
    "  extra_configs = configs)"
   ]
  },
  {
   "cell_type": "code",
   "execution_count": 0,
   "metadata": {
    "application/vnd.databricks.v1+cell": {
     "cellMetadata": {
      "byteLimit": 2048000,
      "rowLimit": 10000
     },
     "inputWidgets": {},
     "nuid": "64e5fe23-006a-4b31-b0a6-43f928823972",
     "showTitle": false,
     "title": ""
    }
   },
   "outputs": [
    {
     "output_type": "stream",
     "name": "stdout",
     "output_type": "stream",
     "text": [
      "Out[6]: True"
     ]
    }
   ],
   "source": [
    "configs = {\n",
    "  \"fs.azure.account.auth.type\": \"CustomAccessToken\",\n",
    "  \"fs.azure.account.custom.token.provider.class\": spark.conf.get(\"spark.databricks.passthrough.adls.gen2.tokenProviderClassName\")\n",
    "}\n",
    "\n",
    "# Optionally, you can add <directory-name> to the source URI of your mount point.\n",
    "dbutils.fs.mount(\n",
    "  source = \"abfss://gold@azurestoragelakegentwo.dfs.core.windows.net/\",\n",
    "  mount_point = \"/mnt/gold1\",\n",
    "  extra_configs = configs)"
   ]
  },
  {
   "cell_type": "code",
   "execution_count": 0,
   "metadata": {
    "application/vnd.databricks.v1+cell": {
     "cellMetadata": {},
     "inputWidgets": {},
     "nuid": "861c6145-ce64-4851-9b1b-c2a78e551831",
     "showTitle": false,
     "title": ""
    }
   },
   "outputs": [],
   "source": []
  }
 ],
 "metadata": {
  "application/vnd.databricks.v1+notebook": {
   "dashboards": [],
   "language": "python",
   "notebookMetadata": {
    "pythonIndentUnit": 4
   },
   "notebookName": "Storagemount",
   "widgets": {}
  }
 },
 "nbformat": 4,
 "nbformat_minor": 0
}
